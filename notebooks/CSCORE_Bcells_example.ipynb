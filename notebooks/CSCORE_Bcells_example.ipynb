{
 "cells": [
  {
   "cell_type": "markdown",
   "id": "05a18bcd",
   "metadata": {},
   "source": [
    "# Constructing B-cells gene-gene correlation network (GCN) using CS-CORE\n",
    "\n",
    "This notebook matches this original [Tutorial](https://github.com/ChangSuBiostats/CS-CORE_python/blob/master/analysis/CSCORE_python_example.ipynb)"
   ]
  },
  {
   "cell_type": "code",
   "execution_count": 1,
   "id": "5abf02b4",
   "metadata": {},
   "outputs": [],
   "source": [
    "%load_ext autoreload\n",
    "%autoreload 2"
   ]
  },
  {
   "cell_type": "code",
   "execution_count": 2,
   "id": "5652d9c7",
   "metadata": {},
   "outputs": [],
   "source": [
    "## Core packages\n",
    "import warnings\n",
    "\n",
    "warnings.filterwarnings(\"ignore\")\n",
    "\n",
    "# Numerical\n",
    "import numpy as np\n",
    "import pandas as pd\n",
    "\n",
    "pd.set_option(\"display.max_columns\", None)\n",
    "\n",
    "# Plotting\n",
    "import seaborn as sns\n",
    "\n",
    "%matplotlib inline\n",
    "\n",
    "sns.set_style(\"ticks\")\n",
    "%config InlineBackend.figure_format = 'retina'\n",
    "\n",
    "## Single-cell packages for preprocessing and embedding\n",
    "import anndata as ad\n",
    "import scanpy as sc\n",
    "\n",
    "sc.settings.verbosity = 1  # verbosity: errors (0), warnings (1), info (2), hints (3)\n",
    "sc.settings.set_figure_params(dpi=150, fontsize=10, dpi_save=150, figsize=(5, 5), format=\"png\")\n",
    "sc.settings.figdir = \".\"\n",
    "\n",
    "from scmetric.external import CSCORE"
   ]
  },
  {
   "cell_type": "markdown",
   "id": "d8502d89",
   "metadata": {},
   "source": [
    "# Load the filtered B-cells dataset "
   ]
  },
  {
   "cell_type": "code",
   "execution_count": 3,
   "id": "e21c7ee2",
   "metadata": {},
   "outputs": [
    {
     "data": {
      "text/plain": [
       "AnnData object with n_obs × n_vars = 1994 × 5000\n",
       "    obs: 'orig.ident', 'nCount_RNA', 'nFeature_RNA', 'percent.mt', 'percent.rps', 'percent.rpl', 'percent.rrna', 'nCount_SCT', 'nFeature_SCT', 'SCT_snn_res.1', 'seurat_clusters', 'singler', 'Admission.level', 'cell.type.fine', 'cell.type.coarse', 'cell.type', 'IFN1', 'HLA1', 'Donor.orig', 'Donor.full', 'Donor', 'Status', 'Sex', 'DPS', 'DTF', 'Admission', 'Ventilated'\n",
       "    var: 'features', 'SCT_features'\n",
       "    obsm: 'X_umap'"
      ]
     },
     "execution_count": 3,
     "metadata": {},
     "output_type": "execute_result"
    }
   ],
   "source": [
    "adata = ad.read_h5ad(\"Bcells_dataset.h5ad\")\n",
    "\n",
    "adata"
   ]
  },
  {
   "cell_type": "markdown",
   "id": "338427f5",
   "metadata": {},
   "source": [
    "# Compute gene-gene correlations using CS-CORE"
   ]
  },
  {
   "cell_type": "code",
   "execution_count": 12,
   "id": "ac3b90cd",
   "metadata": {},
   "outputs": [
    {
     "name": "stdout",
     "output_type": "stream",
     "text": [
      "Iteration 0\n",
      "Iteration 1\n",
      "Iteration 2\n",
      "Iteration 3\n",
      "IRLS converged after 4 iterations (delta=5.32e-03).\n"
     ]
    },
    {
     "data": {
      "text/plain": [
       "AnnData object with n_obs × n_vars = 1994 × 5000\n",
       "    obs: 'orig.ident', 'nCount_RNA', 'nFeature_RNA', 'percent.mt', 'percent.rps', 'percent.rpl', 'percent.rrna', 'nCount_SCT', 'nFeature_SCT', 'SCT_snn_res.1', 'seurat_clusters', 'singler', 'Admission.level', 'cell.type.fine', 'cell.type.coarse', 'cell.type', 'IFN1', 'HLA1', 'Donor.orig', 'Donor.full', 'Donor', 'Status', 'Sex', 'DPS', 'DTF', 'Admission', 'Ventilated', 'seq_depth'\n",
       "    var: 'features', 'SCT_features', 'mu', 'sigma2', 'has_low_variance'\n",
       "    obsm: 'X_umap'\n",
       "    varp: 'corr_mat', 'corr_mat_z', 'corr_mat_pval'"
      ]
     },
     "execution_count": 12,
     "metadata": {},
     "output_type": "execute_result"
    }
   ],
   "source": [
    "adata_with_GCN = CSCORE(adata=adata, copy=True)\n",
    "\n",
    "\n",
    "adata_with_GCN"
   ]
  },
  {
   "cell_type": "markdown",
   "id": "fd6b3606",
   "metadata": {},
   "source": [
    "## Inspecting the correlation among the top-3 genes"
   ]
  },
  {
   "cell_type": "code",
   "execution_count": 13,
   "id": "2da5e4f4",
   "metadata": {},
   "outputs": [
    {
     "data": {
      "text/plain": [
       "array([[ 1.        ,  0.61152648, -0.04710932],\n",
       "       [ 0.61152648,  1.        , -0.00449181],\n",
       "       [-0.04710932, -0.00449181,  1.        ]])"
      ]
     },
     "execution_count": 13,
     "metadata": {},
     "output_type": "execute_result"
    }
   ],
   "source": [
    "adata_with_GCN.varp[\"corr_mat\"][0:3, 0:3]"
   ]
  },
  {
   "cell_type": "markdown",
   "id": "dd3cdeb1",
   "metadata": {},
   "source": [
    "## Mean and variance of expression rates"
   ]
  },
  {
   "cell_type": "code",
   "execution_count": 16,
   "id": "a6d47656",
   "metadata": {},
   "outputs": [
    {
     "data": {
      "text/html": [
       "<div>\n",
       "<style scoped>\n",
       "    .dataframe tbody tr th:only-of-type {\n",
       "        vertical-align: middle;\n",
       "    }\n",
       "\n",
       "    .dataframe tbody tr th {\n",
       "        vertical-align: top;\n",
       "    }\n",
       "\n",
       "    .dataframe thead th {\n",
       "        text-align: right;\n",
       "    }\n",
       "</style>\n",
       "<table border=\"1\" class=\"dataframe\">\n",
       "  <thead>\n",
       "    <tr style=\"text-align: right;\">\n",
       "      <th></th>\n",
       "      <th>mu</th>\n",
       "      <th>sigma2</th>\n",
       "    </tr>\n",
       "  </thead>\n",
       "  <tbody>\n",
       "    <tr>\n",
       "      <th>RNA18S5</th>\n",
       "      <td>0.111836</td>\n",
       "      <td>3.687804e-03</td>\n",
       "    </tr>\n",
       "    <tr>\n",
       "      <th>RNA28S5</th>\n",
       "      <td>0.049710</td>\n",
       "      <td>1.037663e-03</td>\n",
       "    </tr>\n",
       "    <tr>\n",
       "      <th>MT-RNR2</th>\n",
       "      <td>0.058125</td>\n",
       "      <td>6.154636e-04</td>\n",
       "    </tr>\n",
       "    <tr>\n",
       "      <th>IGHM</th>\n",
       "      <td>0.004089</td>\n",
       "      <td>3.410607e-04</td>\n",
       "    </tr>\n",
       "    <tr>\n",
       "      <th>MALAT1</th>\n",
       "      <td>0.019931</td>\n",
       "      <td>1.212203e-04</td>\n",
       "    </tr>\n",
       "    <tr>\n",
       "      <th>...</th>\n",
       "      <td>...</td>\n",
       "      <td>...</td>\n",
       "    </tr>\n",
       "    <tr>\n",
       "      <th>RUNDC1</th>\n",
       "      <td>0.000041</td>\n",
       "      <td>6.726111e-09</td>\n",
       "    </tr>\n",
       "    <tr>\n",
       "      <th>LONRF1</th>\n",
       "      <td>0.000035</td>\n",
       "      <td>2.422775e-09</td>\n",
       "    </tr>\n",
       "    <tr>\n",
       "      <th>RARS2</th>\n",
       "      <td>0.000030</td>\n",
       "      <td>2.432391e-09</td>\n",
       "    </tr>\n",
       "    <tr>\n",
       "      <th>SNAPC3</th>\n",
       "      <td>0.000033</td>\n",
       "      <td>1.801468e-09</td>\n",
       "    </tr>\n",
       "    <tr>\n",
       "      <th>XYLT1</th>\n",
       "      <td>0.000033</td>\n",
       "      <td>5.727798e-09</td>\n",
       "    </tr>\n",
       "  </tbody>\n",
       "</table>\n",
       "<p>5000 rows × 2 columns</p>\n",
       "</div>"
      ],
      "text/plain": [
       "               mu        sigma2\n",
       "RNA18S5  0.111836  3.687804e-03\n",
       "RNA28S5  0.049710  1.037663e-03\n",
       "MT-RNR2  0.058125  6.154636e-04\n",
       "IGHM     0.004089  3.410607e-04\n",
       "MALAT1   0.019931  1.212203e-04\n",
       "...           ...           ...\n",
       "RUNDC1   0.000041  6.726111e-09\n",
       "LONRF1   0.000035  2.422775e-09\n",
       "RARS2    0.000030  2.432391e-09\n",
       "SNAPC3   0.000033  1.801468e-09\n",
       "XYLT1    0.000033  5.727798e-09\n",
       "\n",
       "[5000 rows x 2 columns]"
      ]
     },
     "execution_count": 16,
     "metadata": {},
     "output_type": "execute_result"
    }
   ],
   "source": [
    "adata_with_GCN.var.loc[:, [\"mu\", \"sigma2\"]]"
   ]
  },
  {
   "cell_type": "markdown",
   "id": "262fd8dd",
   "metadata": {},
   "source": [
    "# Construct and cluster GCN"
   ]
  },
  {
   "cell_type": "code",
   "execution_count": 26,
   "id": "e49dab20",
   "metadata": {},
   "outputs": [
    {
     "data": {
      "text/plain": [
       "AnnData object with n_obs × n_vars = 5000 × 1994\n",
       "    obs: 'features', 'SCT_features', 'mu', 'sigma2', 'has_low_variance', 'leiden'\n",
       "    var: 'orig.ident', 'nCount_RNA', 'nFeature_RNA', 'percent.mt', 'percent.rps', 'percent.rpl', 'percent.rrna', 'nCount_SCT', 'nFeature_SCT', 'SCT_snn_res.1', 'seurat_clusters', 'singler', 'Admission.level', 'cell.type.fine', 'cell.type.coarse', 'cell.type', 'IFN1', 'HLA1', 'Donor.orig', 'Donor.full', 'Donor', 'Status', 'Sex', 'DPS', 'DTF', 'Admission', 'Ventilated', 'seq_depth'\n",
       "    uns: 'leiden'\n",
       "    varm: 'X_umap'\n",
       "    obsp: 'corr_mat', 'corr_mat_z', 'corr_mat_pval', 'gcn'"
      ]
     },
     "execution_count": 26,
     "metadata": {},
     "output_type": "execute_result"
    }
   ],
   "source": [
    "genes_adata = adata_with_GCN.T.copy()\n",
    "\n",
    "beta_unsigned = 6\n",
    "pval_threshold = 1e-5\n",
    "C = genes_adata.obsp[\"corr_mat\"]\n",
    "C[pval_threshold < genes_adata.obsp[\"corr_mat_pval\"]] = 0\n",
    "np.fill_diagonal(C, 0)\n",
    "\n",
    "adj = np.abs(C) ** beta_unsigned\n",
    "genes_adata.obsp[\"gcn\"] = adj\n",
    "\n",
    "sc.tl.leiden(genes_adata, adjacency=adj, resolution=1.0, key_added=\"leiden\")\n",
    "\n",
    "genes_adata"
   ]
  },
  {
   "cell_type": "markdown",
   "id": "749f42a7",
   "metadata": {},
   "source": [
    "## Show the genes in the largest clusters (HLA cluster)"
   ]
  },
  {
   "cell_type": "code",
   "execution_count": 35,
   "id": "cc45539f",
   "metadata": {},
   "outputs": [
    {
     "data": {
      "text/plain": [
       "Index(['B2M', 'HLA-B', 'HLA-E', 'HLA-A', 'HLA-C', 'PTPRC', 'UBC', 'LCP1',\n",
       "       'RNF213', 'HSP90AA1',\n",
       "       ...\n",
       "       'C11orf21', 'GRAP2', 'CTSW', 'TC2N', 'PLK1S1', 'CHMP5', 'SLC7A6',\n",
       "       'CBR1', 'PHACTR2', 'KLF11'],\n",
       "      dtype='object', length=571)"
      ]
     },
     "execution_count": 35,
     "metadata": {},
     "output_type": "execute_result"
    }
   ],
   "source": [
    "cluster_1 = genes_adata.obs_names[genes_adata.obs[\"leiden\"] == \"0\"]\n",
    "\n",
    "cluster_1"
   ]
  }
 ],
 "metadata": {
  "kernelspec": {
   "display_name": "scverse",
   "language": "python",
   "name": "python3"
  },
  "language_info": {
   "codemirror_mode": {
    "name": "ipython",
    "version": 3
   },
   "file_extension": ".py",
   "mimetype": "text/x-python",
   "name": "python",
   "nbconvert_exporter": "python",
   "pygments_lexer": "ipython3",
   "version": "3.11.10"
  }
 },
 "nbformat": 4,
 "nbformat_minor": 5
}
